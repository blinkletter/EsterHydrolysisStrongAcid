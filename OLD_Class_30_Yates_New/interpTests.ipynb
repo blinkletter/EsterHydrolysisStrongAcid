{
 "cells": [
  {
   "cell_type": "code",
   "execution_count": 19,
   "id": "6f25bd09",
   "metadata": {},
   "outputs": [
    {
     "data": {
      "text/plain": [
       "[<matplotlib.lines.Line2D at 0x116076c10>]"
      ]
     },
     "execution_count": 19,
     "metadata": {},
     "output_type": "execute_result"
    },
    {
     "data": {
      "image/png": "[encoded data removed]",
      "text/plain": [
       "<Figure size 390x597 with 1 Axes>"
      ]
     },
     "metadata": {},
     "output_type": "display_data"
    }
   ],
   "source": [
    "import pandas as pd\n",
    "import numpy as np\n",
    "from scipy.interpolate import make_smoothing_spline               # A function for interpolating a plot using a Bspline algorithm. Returns an interpolation function.\n",
    "import matplotlib.pyplot as plt\n",
    "\n",
    "\n",
    "#github_location = \"https://raw.githubusercontent.com/blinkletter/4410PythonNotebooks/main/Class_30/data/\"\n",
    "github_location = \"./data/\"\n",
    "github_H0_location = \"https://raw.githubusercontent.com/blinkletter/4410PythonNotebooks/main/Class_08/data/H0_data/\"\n",
    "github_location_styles = \"https://raw.githubusercontent.com/blinkletter/LFER-QSAR/main/styles/\"\n",
    "github_location_LFER_tables = \"https://raw.githubusercontent.com/blinkletter/LFER-QSAR/main/data/\"\n",
    "\n",
    "\n",
    "\n",
    "\n",
    "def MakeInterpolationFunctionForH2OActivityinH2SO4byPercentWt():\n",
    "    Data_File_Name = \"01_Giauque_Table9_activityH2OinH2SO4.csv\"\n",
    "    \n",
    "    molwtH2SO4 = 98.08; molwtH20 = 18.0; densityH2SO4 = 1.83; densityH2O = 1.000\n",
    "    \n",
    "    Filename = github_location + Data_File_Name\n",
    "    \n",
    "    df1 = pd.read_csv(Filename, \n",
    "                     delimiter = \",\", \n",
    "                     skipinitialspace=True, \n",
    "                     comment = \"#\") \n",
    "    \n",
    "    molal = df1[\"conc H2SO4 / m\"]\n",
    "    mass_add_to_1_kg_water = molal * molwtH2SO4\n",
    "    total_mass_solution = mass_add_to_1_kg_water + 1000\n",
    "    percent_H2SO4 = mass_add_to_1_kg_water / total_mass_solution * 100\n",
    "    \n",
    "    df1[\"%H2SO4\"] = percent_H2SO4\n",
    "    df1[\"mole fraction\"] = molal / (molal + 1000/molwtH20)\n",
    "    \n",
    "    x = df1[\"%H2SO4\"]\n",
    "    y = df1[\"aH2O\"]\n",
    "\n",
    "\n",
    "    \n",
    "    interpolation = make_smoothing_spline(x, y,      ### The x and y data\n",
    "                                          w=None,    ### A list of weights for each point (default = None)\n",
    "                                          lam=5)     ### A factor for the degree of smoothing. Change this to change the smoothness.\n",
    "    \n",
    "    return(interpolation)\n",
    "\n",
    "def DataForInterpolateH2OActivitybyPercentWtH2SO4():\n",
    "    Data_File_Name = \"01_Giauque_Table9_activityH2OinH2SO4.csv\"\n",
    "    \n",
    "    molwtH2SO4 = 98.08; molwtH20 = 18.0; densityH2SO4 = 1.83; densityH2O = 1.000\n",
    "    \n",
    "    Filename = github_location + Data_File_Name\n",
    "    \n",
    "    df1 = pd.read_csv(Filename, \n",
    "                     delimiter = \",\", \n",
    "                     skipinitialspace=True, \n",
    "                     comment = \"#\") \n",
    "    \n",
    "    molal = df1[\"conc H2SO4 / m\"]\n",
    "    mass_add_to_1_kg_water = molal * molwtH2SO4\n",
    "    total_mass_solution = mass_add_to_1_kg_water + 1000\n",
    "    percent_H2SO4 = mass_add_to_1_kg_water / total_mass_solution * 100\n",
    "    \n",
    "    df1[\"%H2SO4\"] = percent_H2SO4\n",
    "    \n",
    "    x = df1[\"%H2SO4\"]\n",
    "    y = df1[\"aH2O\"]\n",
    "    \n",
    "    return(x,y)\n",
    "\n",
    "\n",
    "Data_File_Name = \"01_Giauque_Table9_activityH2OinH2SO4.csv\"\n",
    "\n",
    "Filename = github_location + Data_File_Name\n",
    "\n",
    "df = pd.read_csv(Filename, \n",
    "                 delimiter = \",\", \n",
    "                 skipinitialspace=True, \n",
    "                 comment = \"#\")     \n",
    "\n",
    "interpolator = MakeInterpolationFunctionForH2OActivityinH2SO4byPercentWt()\n",
    "x1 = df[\"%H2SO4\"] \n",
    "x = np.linspace(min(x1), max(x1), 100)   # Create an array of 500 points between the min and max x values  \n",
    "y = interpolator(x) \n",
    "\n",
    "style_file = \"tufte.mplstyle\"\n",
    "#style_file = \"S2_classic2.mplstyle\"\n",
    "#plt.style.use(github_location_styles + style_file)        \n",
    "\n",
    "\n",
    "\n",
    "fig, ax = plt.subplots(nrows=1, ncols=1, figsize=(3.90,5.97))  \n",
    "ax.margins(x=.07, y=.07, tight=True)      # add 7% empty space around outside of plot area   \n",
    "ax.set(ylabel=r\"$a_{H_2O}\", \n",
    "   xlabel=r\"%H$_2$SO$_4$\",\n",
    "   ylim=[0.6,1],                  \n",
    "   xlim=[5,30]\n",
    "   )\n",
    "\n",
    "ax.plot(df[\"%H2SO4\"], df[\"aH2O\"], 'o', color='black', markersize=4, label=\"Data from Giauque (1940)\")\n",
    "ax.plot(x, y, '-', color='black', markersize=4, label=\"Data from Giauque (1940)\")\n",
    "\n",
    "y = np.interp(x, df[\"%H2SO4\"], df[\"aH2O\"])\n",
    "ax.plot(x, y, '-', color='red', markersize=4, label=\"Data from Giauque (1940)\")\n"
   ]
  },
  {
   "cell_type": "code",
   "execution_count": null,
   "id": "44b85434",
   "metadata": {},
   "outputs": [],
   "source": []
  }
 ],
 "metadata": {
  "kernelspec": {
   "display_name": "Python 3",
   "language": "python",
   "name": "python3"
  },
  "language_info": {
   "codemirror_mode": {
    "name": "ipython",
    "version": 3
   },
   "file_extension": ".py",
   "mimetype": "text/x-python",
   "name": "python",
   "nbconvert_exporter": "python",
   "pygments_lexer": "ipython3",
   "version": "3.13.1"
  }
 },
 "nbformat": 4,
 "nbformat_minor": 5
}
